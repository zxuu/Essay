{
 "cells": [
  {
   "cell_type": "code",
   "execution_count": 1,
   "metadata": {},
   "outputs": [],
   "source": [
    "import numpy as np"
   ]
  },
  {
   "cell_type": "code",
   "execution_count": 2,
   "metadata": {},
   "outputs": [
    {
     "name": "stdout",
     "output_type": "stream",
     "text": [
      "特征值： [2. 1.]\n",
      "特征向量： [[0.89442719 0.70710678]\n",
      " [0.4472136  0.70710678]]\n"
     ]
    }
   ],
   "source": [
    "mat = np.array([[3,-2],\n",
    "              [1,0]])\n",
    "eigenvalue, featurevector = np.linalg.eig(mat)\n",
    "print(\"特征值：\", eigenvalue)\n",
    "print(\"特征向量：\", featurevector)"
   ]
  },
  {
   "cell_type": "code",
   "execution_count": 28,
   "metadata": {},
   "outputs": [],
   "source": [
    "import matplotlib.pyplot as plt"
   ]
  },
  {
   "cell_type": "code",
   "execution_count": 33,
   "metadata": {},
   "outputs": [
    {
     "name": "stdout",
     "output_type": "stream",
     "text": [
      "特征向量：[-1,1]   x/y:-1.0\n",
      "特征向量：[-5,-1]   x/y:5.0\n",
      "特征向量：[-13,-5]   x/y:2.6\n",
      "特征向量：[-29,-13]   x/y:2.230769230769231\n",
      "特征向量：[-61,-29]   x/y:2.103448275862069\n",
      "特征向量：[-125,-61]   x/y:2.0491803278688523\n",
      "特征向量：[-253,-125]   x/y:2.024\n",
      "特征向量：[-509,-253]   x/y:2.0118577075098814\n",
      "特征向量：[-1021,-509]   x/y:2.005893909626719\n",
      "特征向量：[-2045,-1021]   x/y:2.0029382957884425\n",
      "特征向量：[-4093,-2045]   x/y:2.0014669926650366\n",
      "特征向量：[-8189,-4093]   x/y:2.0007329587099925\n",
      "特征向量：[-16381,-8189]   x/y:2.0003663450970817\n",
      "特征向量：[-32765,-16381]   x/y:2.000183139002503\n",
      "特征向量：[-65533,-32765]   x/y:2.0000915611170456\n",
      "特征向量：[-131069,-65533]   x/y:2.000045778462759\n",
      "特征向量：[-262141,-131069]   x/y:2.0000228887074747\n",
      "特征向量：[-524285,-262141]   x/y:2.0000114442227654\n",
      "特征向量：[-1048573,-524285]   x/y:2.0000057220786402\n",
      "特征向量：[-2097149,-1048573]   x/y:2.0000028610311347\n"
     ]
    },
    {
     "data": {
      "image/png": "[encoded data removed]",
      "text/plain": [
       "<Figure size 432x288 with 1 Axes>"
      ]
     },
     "metadata": {
      "needs_background": "light"
     },
     "output_type": "display_data"
    }
   ],
   "source": [
    "v = [1,2]\n",
    "x = []\n",
    "y = []\n",
    "i=0\n",
    "for _ in range(20):\n",
    "    v = np.dot(mat,v)\n",
    "    i = i+1\n",
    "    x.append(i)\n",
    "    y.append((v[0]/v[1]))\n",
    "    print('特征向量：['+str(v[0])+','+str(v[1])+']   x/y:'+str(v[0]/v[1]))\n",
    "plt.plot(x,y)\n",
    "plt.show()"
   ]
  }
 ],
 "metadata": {
  "kernelspec": {
   "display_name": "Python 3",
   "language": "python",
   "name": "python3"
  },
  "language_info": {
   "codemirror_mode": {
    "name": "ipython",
    "version": 3
   },
   "file_extension": ".py",
   "mimetype": "text/x-python",
   "name": "python",
   "nbconvert_exporter": "python",
   "pygments_lexer": "ipython3",
   "version": "3.7.0"
  }
 },
 "nbformat": 4,
 "nbformat_minor": 2
}
